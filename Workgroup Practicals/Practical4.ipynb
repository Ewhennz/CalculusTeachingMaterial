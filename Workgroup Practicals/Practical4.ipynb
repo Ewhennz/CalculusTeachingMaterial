{
  "nbformat": 4,
  "nbformat_minor": 0,
  "metadata": {
    "colab": {
      "name": "Practical4.ipynb",
      "provenance": []
    },
    "kernelspec": {
      "name": "python3",
      "display_name": "Python 3"
    }
  },
  "cells": [
    {
      "cell_type": "code",
      "metadata": {
        "id": "fHXnDk3EQQpx",
        "colab_type": "code",
        "colab": {}
      },
      "source": [
        ""
      ],
      "execution_count": null,
      "outputs": []
    },
    {
      "cell_type": "markdown",
      "metadata": {
        "id": "gsCS0l1iQUVx",
        "colab_type": "text"
      },
      "source": [
        "# Practical 4: Optimization\n",
        "\n",
        "In the lecture, we developed a simple recepit for finding and identifying maxima and minima of a function:\n",
        "1) Compute the derivative\n",
        "2) Set the derivative equal to zero and solve for $x$. The solutions are the critical points.\n",
        "3) Compute the second derivative at the critical points. If it is positive the point is a point of (local) minimum while if it is negative it is a point of (local) maximum.\n",
        "\n",
        "### Solved exercise 1\n",
        "Find the points of local minimum and local maximum of the following function:\n",
        "\n",
        "$$\n",
        "f(x) = \\exp(x) \\left( x^2 - x + 1 \\right)\n",
        "$$\n",
        "\n",
        "### Solution\n",
        "Step one: Compute the derivative:\n",
        "$$\n",
        "\\frac{\\text{d} f}{\\text{d} x} = \\exp(x) \\left(x^2 + x\\right)\n",
        "$$\n",
        "Step two: Solve for the critical points:\n",
        "\n",
        "$$\n",
        "\\exp(x) \\left(x^2 + x\\right) = 0\n",
        "$$\n",
        "\n",
        "The exponential is always positive, therefore we can divide both sides:\n",
        "\n",
        "$$\n",
        "x^2 + x = 0\n",
        "$$\n",
        "\n",
        "This equation is solved by $x_1 = 0$ and $x_2 = -1$.\n",
        "\n",
        "Step three: Let's compute the second derivative:\n",
        "\n",
        "$$\n",
        "\\frac{\\text{d}^2 f}{\\text{d} x^2} = \\frac{\\text{d}}{\\text{d} x} \\left( \\frac{\\text{d} f}{\\text{d} x} \\right) = \\frac{\\text{d}}{\\text{d} x} \\left( \\exp(x) \\left(x^2 + x\\right) \\right) = \\exp(x) \\left( x^2 + 3x + 1 \\right)\n",
        "$$\n",
        "\n",
        "We can now evaluate the second derivative at the critical points. For $x_1$ we get\n",
        "\n",
        "\n",
        "$$\n",
        "\\frac{\\text{d}^2 f(0)}{\\text{d} x^2} = \\exp(0) \\left(0 + 3 \\times 0 + 1\\right) = 1 \n",
        "$$\n",
        "\n",
        "therefore $x_1$ is a point of minimum. On the other hand, for $x_2$ we get\n",
        "\n",
        "$$\n",
        "\\frac{\\text{d}^2 f(0)}{\\text{d} x^2} = \\exp(-1) \\left(1 - 3 + 1\\right) = -e^{-1}  \n",
        "$$\n",
        "\n",
        "which is negative, therefore $x_2$ is a point of local maximum.\n",
        "\n",
        "### Solved Python exercise 1\n",
        "Validate these results by plotting the function between $-2$ and $0.5$ using Python.\n",
        "\n",
        "#### Solution"
      ]
    },
    {
      "cell_type": "code",
      "metadata": {
        "id": "eRZhCWipfLMN",
        "colab_type": "code",
        "colab": {
          "base_uri": "https://localhost:8080/",
          "height": 287
        },
        "outputId": "aafa36cd-894e-46c8-c8ae-37cf1a1d1984"
      },
      "source": [
        "import numpy as np\n",
        "import matplotlib.pyplot as plt\n",
        "\n",
        "f = lambda x: np.exp(x)*(x**2 - x + 1)\n",
        "x_range = np.linspace(-2,0.5,100)\n",
        "x1 = 0.\n",
        "x2 = -1.\n",
        "\n",
        "plt.plot(x_range, f(x_range))\n",
        "plt.axvline(x=x1, c=\"k\", ls=\"--\", label = \"x1\")\n",
        "plt.axvline(x=x2, c=\"r\", ls=\"--\", label = \"x2\")\n",
        "plt.legend(loc=\"best\")"
      ],
      "execution_count": null,
      "outputs": [
        {
          "output_type": "execute_result",
          "data": {
            "text/plain": [
              "<matplotlib.legend.Legend at 0x7f4e1cad3860>"
            ]
          },
          "metadata": {
            "tags": []
          },
          "execution_count": 5
        },
        {
          "output_type": "display_data",
          "data": {
            "image/png": "[encoded data removed]",
            "text/plain": [
              "<Figure size 432x288 with 1 Axes>"
            ]
          },
          "metadata": {
            "tags": [],
            "needs_background": "light"
          }
        }
      ]
    },
    {
      "cell_type": "markdown",
      "metadata": {
        "id": "5y3OyftYgYou",
        "colab_type": "text"
      },
      "source": [
        "### Exercises 1\n",
        "Find the points of local maxima and minima of the following functions:\n",
        "- $f(x) = x^3 - x^2 + 4$\n",
        "- $f(x) = e^{2x} \\left(x^2 - x \\right)$\n",
        "- $f(x) = \\exp(-0.5 (x - 3)^2)$\n",
        "- $f(x) = \\exp(-x^2) x $\n",
        "- $f(x) = -(a - x b)^2 - 0.5 c x^2$ (where $a$, $b$ are numbers and $c$ is a positive number.\n",
        "\n",
        "#### Solutions\n",
        "- 3x^2 - 2x = 0, x = 0, 3x = 2x, x = 2/3\n",
        "- $x_1 = 0$ (local maximum) and $x_2 = 2/3$ (local minimum)\n",
        "- $x_1 = -1/\\sqrt{2}$ (local maximum) and $x_2 = 1/\\sqrt{2}$ (local minimum)\n",
        "- $x_1 = 3$ (local maximum)\n",
        "- $x_1 = -1/\\sqrt{2}$ (local minimum) and $x_2 = 1/\\sqrt{2}$ (local maximum)\n",
        "- $x_1 = ab/(b^2 + c)$  (local minimum)\n",
        "\n",
        "### Python exercises 1\n",
        "Validate all these results by plotting the functions using Python.\n",
        "\n",
        "## Steepest descent (Also known as gradient descent)\n",
        "Very oiften you cannot solve the equation is Step II exactly. In this case, we can use a numerical method to find an approximate solution. The simplest of these methods is the steepest descent method.\n",
        "The idea is to start at an arbitrary point, then to compute the derivative and \"make a step\" in the direction of the derivative if we want to find a maximum and aganst the direction of the derivitive if we want to find a minimum. We can write this in formulas as follows:\n",
        "\n",
        "$$\n",
        "x_{n+1} = x_n - \\eta \\frac{\\text{d} f(x_n)}{\\text{d}x}\n",
        "$$\n",
        "\n",
        "where $\\eta$ is a small positive number (or a small negative number if we want to find a local maximum). Since the derivative is zero in a local minimum (and maximum), these points are the fixed points of the steepest descent update. It is easy to see that this update rule will move you towards one of these fixed points as far as the learning rate $\\eta$ is small enough.\n",
        "\n",
        "### Solved exercise 2\n",
        "Find the steepest descent update rule for the following function:\n",
        "\n",
        "$$\n",
        "f(x) = e^{\\sum_{k=-2}^{10} k \\sin(k^2 x)}\n",
        "$$\n",
        "\n",
        "#### Solution\n",
        "The derivative of this function is\n",
        "\n",
        "$$\n",
        "\\frac{\\text{d} f}{\\text{d} x} = e^{\\sum_{k=-2}^{10} k \\sin(k^2 x)} \\sum_{k=-2}^{10} k^3 \\cos(k^2 x)\n",
        "$$\n",
        "\n",
        "therefore, the update rule is\n",
        "\n",
        "$$\n",
        "x_{n+1} = x_n - \\eta e^{\\sum_{k=-2}^{10} k \\sin(k^2 x_n)} \\sum_{k=-2}^{10} k^3 \\cos(k^2 x_n)\n",
        "$$\n",
        "\n",
        "### Exercises 2\n",
        "Find the steepest descent update rule for the following functions:\n",
        "- $f(x) = \\exp(-x^2 + x^3) \\left( x^4 - x^3 + 5x +6 \\right)$\n",
        "- $f(x) = \\sum_{k = 1}^5 e^{-(x - k)^2}$\n",
        "- $f(x) = \\exp(\\sum_{k = 1}^{-5} e^{-(x - k)^2} \\cos(k x)) $\n",
        "\n",
        "### Python exercise 2 (more challenging)\n",
        "implement the steepest descent algorithm using Python and use it on the functions in the previous exercise. Plot the results anc check if the fixed points of the update are actually local minima.\n"
      ]
    },
    {
      "cell_type": "code",
      "metadata": {
        "id": "XO-LamgKl8FY",
        "colab_type": "code",
        "colab": {}
      },
      "source": [
        ""
      ],
      "execution_count": null,
      "outputs": []
    }
  ]
}